{
 "cells": [
  {
   "cell_type": "markdown",
   "id": "23dfb65a-df6e-465b-941e-8dad76749431",
   "metadata": {},
   "source": [
    "# Import Libraries"
   ]
  },
  {
   "cell_type": "code",
   "execution_count": null,
   "id": "9d8cb2d3-7897-49fe-91cb-c0e2e58125fe",
   "metadata": {},
   "outputs": [],
   "source": [
    "import numpy as np\n",
    "import pandas as pd\n",
    "import matplotlib.pyplot as plt\n",
    "import seaborn as sns\n",
    "import plotly.express as px\n",
    "import plotly.graph_objects as go\n"
   ]
  },
  {
   "cell_type": "markdown",
   "id": "b4dcfffe-1baa-4584-9dac-f09994c50acf",
   "metadata": {},
   "source": [
    "# Load Dataset"
   ]
  },
  {
   "cell_type": "code",
   "execution_count": null,
   "id": "41641645-5477-4746-90b1-6ab512b87437",
   "metadata": {},
   "outputs": [],
   "source": [
    "df=pd.read_excel(\"C:\\\\Users\\\\Swapnil\\\\OneDrive\\\\Desktop\\\\EDA_PROJECT\\\\Super store2.xlsx\")"
   ]
  },
  {
   "cell_type": "code",
   "execution_count": null,
   "id": "fd7f8593-7258-409d-89cc-dc126b6ad15a",
   "metadata": {},
   "outputs": [],
   "source": [
    "df.head(2)"
   ]
  },
  {
   "cell_type": "markdown",
   "id": "db958128-38ff-4429-9b4f-8e09e0899009",
   "metadata": {},
   "source": [
    "# Basic Overview"
   ]
  },
  {
   "cell_type": "code",
   "execution_count": null,
   "id": "38367cd2-9ffa-415f-9b69-b9da7a07038e",
   "metadata": {},
   "outputs": [],
   "source": [
    "df.shape"
   ]
  },
  {
   "cell_type": "code",
   "execution_count": null,
   "id": "6ad5fa73-8e2b-402d-afba-28ea47d2e06f",
   "metadata": {},
   "outputs": [],
   "source": [
    "df.dtypes"
   ]
  },
  {
   "cell_type": "code",
   "execution_count": null,
   "id": "e7941f75-d3b2-4f51-94ba-648a608ddf3c",
   "metadata": {},
   "outputs": [],
   "source": [
    "df.columns"
   ]
  },
  {
   "cell_type": "code",
   "execution_count": null,
   "id": "c9c03d5c-0dc9-4469-a55e-9bd81d519232",
   "metadata": {},
   "outputs": [],
   "source": [
    "df.info()"
   ]
  },
  {
   "cell_type": "code",
   "execution_count": null,
   "id": "98b62c7f-d4fe-450d-9875-37eee8944a82",
   "metadata": {},
   "outputs": [],
   "source": [
    "df.describe()"
   ]
  },
  {
   "cell_type": "markdown",
   "id": "ca7efda7-8c36-45b3-989a-5986aae0d403",
   "metadata": {},
   "source": [
    "# Data Cleaning"
   ]
  },
  {
   "cell_type": "code",
   "execution_count": null,
   "id": "fa1b9f49-f516-43a9-b43f-d1931e38ecb7",
   "metadata": {},
   "outputs": [],
   "source": [
    "df.isnull().sum()"
   ]
  },
  {
   "cell_type": "raw",
   "id": "edeb8105-d51f-4468-84d2-c98cd6f5ea71",
   "metadata": {},
   "source": [
    "This approach is valid as removing one row out of thousands will not affect the analysis significantly."
   ]
  },
  {
   "cell_type": "code",
   "execution_count": null,
   "id": "b2169ce3-2002-450b-a8bd-f11a31f60886",
   "metadata": {},
   "outputs": [],
   "source": [
    "df.dropna(inplace=True)\n"
   ]
  },
  {
   "cell_type": "code",
   "execution_count": null,
   "id": "10d83769-6d5e-458b-90a5-d0ec75f9c3fa",
   "metadata": {},
   "outputs": [],
   "source": [
    "df.isnull().sum()"
   ]
  },
  {
   "cell_type": "code",
   "execution_count": null,
   "id": "5912d4d6-89b1-45f9-9b2c-1c187e881b5d",
   "metadata": {},
   "outputs": [],
   "source": [
    "df.duplicated().sum()"
   ]
  },
  {
   "cell_type": "markdown",
   "id": "3aae6bcf-f0d6-41b7-a869-a9f44f464835",
   "metadata": {},
   "source": [
    "# Extracting year from 'Order Date' and creating a new column 'Year',This helps us analyze data on a yearly basis."
   ]
  },
  {
   "cell_type": "code",
   "execution_count": null,
   "id": "21277d5b-ddcb-45b2-9972-a7ca74e7fe6c",
   "metadata": {},
   "outputs": [],
   "source": [
    "df['Year'] = df['Order Date'].dt.year.astype(str)\n",
    "df.Year"
   ]
  },
  {
   "cell_type": "code",
   "execution_count": null,
   "id": "5ca0b09f-d4bb-44e1-9f92-bfddb705af0f",
   "metadata": {},
   "outputs": [],
   "source": [
    "data=df.groupby(\"Year\")[\"Sales\"].sum().reset_index()\n",
    "data1=df.groupby(\"Year\")[\"Profit\"].sum().reset_index()\n",
    "data2=df.groupby(\"Year\")[\"Order ID\"].count().reset_index()\n",
    "\n"
   ]
  },
  {
   "cell_type": "markdown",
   "id": "4f57fd18-d47a-4bfa-891a-6909537f7eb1",
   "metadata": {},
   "source": [
    "# Create subplots with 1 row and 3 columns"
   ]
  },
  {
   "cell_type": "code",
   "execution_count": null,
   "id": "354c96ec-ede3-43a4-bbfb-6145ed795049",
   "metadata": {},
   "outputs": [],
   "source": [
    "import plotly.graph_objects as go\n",
    "from plotly.subplots import make_subplots"
   ]
  },
  {
   "cell_type": "code",
   "execution_count": null,
   "id": "597b633b-1501-45a7-af2a-e6be946f337b",
   "metadata": {},
   "outputs": [],
   "source": [
    "fig = make_subplots(rows=1, cols=3, \n",
    "                    subplot_titles=('Sales Trend', 'Profit Trend', 'Order Trend'))\n",
    "\n",
    "fig.add_trace(go.Scatter(x=data['Year'], y=data['Sales'], mode='lines+markers', name='Sales'), row=1, col=1)\n",
    "\n",
    "fig.add_trace(go.Scatter(x=data1['Year'], y=data1['Profit'], mode='lines+markers', name='Profit'), row=1, col=2)\n",
    "\n",
    "fig.add_trace(go.Scatter(x=data2['Year'], y=data2['Order ID'], mode='lines+markers', name='Order ID'), row=1, col=3)\n",
    "\n",
    "fig.update_layout(\n",
    "    width=1200, \n",
    "    height=400,\n",
    "    title_text='📊 Yearly Trends'\n",
    ")\n",
    "fig.show()\n"
   ]
  },
  {
   "cell_type": "raw",
   "id": "5199e486-9a65-49e6-9b02-27382b830295",
   "metadata": {},
   "source": [
    "Inference :\n",
    "Sales dipped slightly in 2015, then grew significantly till 2017.\n",
    "Profit increased consistently every year.\n",
    "Orders rose steadily, with sharp growth in 2016 and 2017."
   ]
  },
  {
   "cell_type": "markdown",
   "id": "31a4a078-dc47-4f0c-b0fb-db5e93c6ca15",
   "metadata": {},
   "source": [
    "# Ship Mode Distribution — Orders per shipping method\n"
   ]
  },
  {
   "cell_type": "code",
   "execution_count": null,
   "id": "dc71c1cc-a5a2-44cf-9ba8-b7e947ce22ba",
   "metadata": {},
   "outputs": [],
   "source": [
    "ship_mode_data = df['Ship Mode'].value_counts().reset_index()\n",
    "ship_mode_data.columns = ['Ship Mode', 'Count'] # convert into column names \n",
    "ship_mode_data"
   ]
  },
  {
   "cell_type": "code",
   "execution_count": null,
   "id": "55ac9a15-d8d6-46a5-9469-19600f1e58a4",
   "metadata": {},
   "outputs": [],
   "source": [
    "fig = px.bar(\n",
    "    ship_mode_data,\n",
    "    x='Ship Mode',\n",
    "    y='Count',\n",
    "    color='Ship Mode',\n",
    "    title='🚚 Distribution of Ship Modes',\n",
    "    text='Count',\n",
    "    color_discrete_sequence=px.colors.qualitative.Vivid\n",
    ")\n",
    "fig.update_layout(\n",
    "    width=600,\n",
    "    height=400,\n",
    "    template='plotly_white'\n",
    ")"
   ]
  },
  {
   "cell_type": "raw",
   "id": "78a42329-4716-49b1-8ff0-1dda68b0c7db",
   "metadata": {},
   "source": [
    "Inference :\n",
    "Standard Class dominates (5968 orders).\n",
    "Second and First Class moderate (1945 & 1538).\n",
    "Same Day least used (543)."
   ]
  },
  {
   "cell_type": "markdown",
   "id": "265e6c79-6ad5-4a4d-8162-72d64f20e38c",
   "metadata": {},
   "source": [
    "#  Segment Distribution — Share of each customer segment"
   ]
  },
  {
   "cell_type": "code",
   "execution_count": null,
   "id": "95fff906-f25d-47a1-a7ea-ebbff69e38a4",
   "metadata": {},
   "outputs": [],
   "source": [
    "fig = px.pie(\n",
    "    df,\n",
    "    names='Segment',\n",
    "    title='👥 Customer Segment Distribution',\n",
    "    hole=0.4,\n",
    "    color_discrete_sequence=px.colors.sequential.RdBu\n",
    ")\n",
    "\n",
    "fig.update_layout(\n",
    "    width=600,\n",
    "    height=400,\n",
    "    template='plotly_white'\n",
    ")"
   ]
  },
  {
   "cell_type": "raw",
   "id": "b32e14ab-c6f4-4d5f-8815-5502426f4fdb",
   "metadata": {},
   "source": [
    "Inference :\n",
    "Consumers dominate the market with 51.9% share.\n",
    "Corporate segment holds the second-largest share at 30.2%.\n",
    "Home Office is the smallest segment with only 17.8%.\n",
    "Strategy should prioritize Consumers for maximum reach.\n",
    "Opportunity exists to boost Home Office engagement.\n"
   ]
  },
  {
   "cell_type": "markdown",
   "id": "dafdf34a-04de-46e2-823b-5037f88eea93",
   "metadata": {},
   "source": [
    "# Treemap — Sales distribution by Category and Sub-Category\n",
    "\n"
   ]
  },
  {
   "cell_type": "code",
   "execution_count": null,
   "id": "8f0a383b-6d0f-40e6-a1a7-39a26f423f3a",
   "metadata": {},
   "outputs": [],
   "source": [
    "fig = px.treemap(\n",
    "    df,\n",
    "    path=['Category', 'Sub-Category'],\n",
    "    values='Sales',\n",
    "    title='🧩 Sales by Category and Sub-Category',\n",
    "    color='Category',\n",
    "    color_discrete_sequence=px.colors.qualitative.Set3\n",
    ")\n",
    "fig.update_layout(\n",
    "    width=700,\n",
    "    height=500,\n",
    "    template='plotly_white'\n",
    ")\n"
   ]
  },
  {
   "cell_type": "raw",
   "id": "6b027a02-fc7b-44b5-b32e-a6bc97101895",
   "metadata": {},
   "source": [
    "Inference :\n",
    "Technology leads in sales, especially in Phones.\n",
    "Furniture category is driven by Chairs and Tables.\n",
    "In Office Supplies, Storage and Binders are top contributors.\n",
    "Art, Labels, Fasteners, and Envelopes have the lowest sales.\n",
    "Focus on high-performing sub-categories like Phones and Chairs for growth."
   ]
  },
  {
   "cell_type": "markdown",
   "id": "579196e4-e30b-449c-9d9e-2ce83b07fece",
   "metadata": {},
   "source": [
    "# Sales Histogram — Distribution of Sales values  \n",
    " "
   ]
  },
  {
   "cell_type": "code",
   "execution_count": null,
   "id": "2ceb3db9-5989-42c8-8d28-c00cf85abf0c",
   "metadata": {},
   "outputs": [],
   "source": [
    "fig_sales = px.histogram(\n",
    "    df,\n",
    "    x='Sales',\n",
    "    nbins=50,\n",
    "    title='💰 Sales Distribution',\n",
    "    color_discrete_sequence=['#636EFA']\n",
    ")\n",
    "fig_sales.update_layout(\n",
    "    width=600,\n",
    "    height=400,\n",
    "    template='plotly_white'\n",
    ")"
   ]
  },
  {
   "cell_type": "raw",
   "id": "690bfddb-d60b-4833-832b-33798445a7b2",
   "metadata": {},
   "source": [
    "Inference :\n",
    "Most of the sales are less than $500.\n",
    "Very few sales are of high amount.\n",
    "Some sales are more than $10,000, which are unusual.\n",
    "The business mostly depends on selling many items at low prices.\n",
    "We should check the high amount sales to learn more from them."
   ]
  },
  {
   "cell_type": "markdown",
   "id": "17bc0b98-5744-4105-90fb-c0025328c35c",
   "metadata": {},
   "source": [
    "# Profit Histogram — Distribution of Profit values "
   ]
  },
  {
   "cell_type": "code",
   "execution_count": null,
   "id": "59a48220-2ea6-42da-bc66-5f20de247a1e",
   "metadata": {},
   "outputs": [],
   "source": [
    "fig_profit = px.histogram(\n",
    "    df,\n",
    "    x='Profit',\n",
    "    nbins=50,\n",
    "    title='💹 Profit Distribution',\n",
    "    color_discrete_sequence=['#EF553B']\n",
    ")\n",
    "fig_profit.update_layout(\n",
    "    width=600,\n",
    "    height=400,\n",
    "    template='plotly_white'\n",
    ")"
   ]
  },
  {
   "cell_type": "raw",
   "id": "beb0913d-b089-483f-a0b5-1d11ac249e33",
   "metadata": {},
   "source": [
    "Inference :\n",
    "Most profits are near zero.\n",
    "Few large losses exist.\n",
    "Distribution is slightly left-skewed."
   ]
  },
  {
   "cell_type": "markdown",
   "id": "344522bb-c7c8-4e44-8cab-e093bfdad797",
   "metadata": {},
   "source": [
    " # Profit by Region & Segment"
   ]
  },
  {
   "cell_type": "code",
   "execution_count": null,
   "id": "8d468e8f-de86-473c-a809-d006b0154fb7",
   "metadata": {},
   "outputs": [],
   "source": [
    "fig = px.sunburst(\n",
    "    df,\n",
    "    path=['Region', 'Segment'],\n",
    "    values='Profit',\n",
    "    color='Profit',\n",
    "    color_continuous_scale='RdBu',\n",
    "    title='🌞 Profit by Region and Segment (Sunburst)'\n",
    ")\n",
    "\n",
    "fig.update_layout(width=700, height=700)\n",
    "fig.show()\n"
   ]
  },
  {
   "cell_type": "raw",
   "id": "ad2f72c2-2987-41df-80cf-bc9aea295c57",
   "metadata": {},
   "source": [
    "Inference :\n",
    "Central-Consumer segment has the highest profit (dark blue color).\n",
    "West region overall has the lowest profits (deep red shades).\n",
    "East-Consumer segment is performing very well.\n",
    "Home Office in the South region has the least contribution to profit."
   ]
  },
  {
   "cell_type": "markdown",
   "id": "a2df6b38-9768-4686-ab1d-23c85f1f87bc",
   "metadata": {},
   "source": [
    "# Exploring the direct relationship between Discount and Profitusing an interactive scatter plot."
   ]
  },
  {
   "cell_type": "code",
   "execution_count": null,
   "id": "6843f539-ccaf-45e2-94cb-cf4a0c621fc3",
   "metadata": {},
   "outputs": [],
   "source": [
    "fig = px.scatter(\n",
    "    df,\n",
    "    x='Discount',\n",
    "    y='Profit',\n",
    "    title='🔎 Scatter Plot — Discount vs Profit',\n",
    "    color_discrete_sequence=['indigo'],\n",
    "    opacity=0.7\n",
    ")\n",
    "\n",
    "fig.update_traces(marker=dict(size=8))\n",
    "fig.update_layout(width=700, height=500, \n",
    "template='plotly_white',)\n",
    "fig.show()"
   ]
  },
  {
   "cell_type": "raw",
   "id": "b9055bda-5ee6-4316-838f-d06bbd8a9a58",
   "metadata": {},
   "source": [
    "Inference :\n",
    "Low Discount = High Profit\n",
    "When discount is small or zero, profit is mostly high.\n",
    "High Discount = Loss\n",
    "More discount gives more chances of loss.\n",
    "Very High Discount (0.6 to 0.8)\n",
    "Mostly gives big losses.\n",
    "No positive trend\n",
    "Giving more discount does not increase profit."
   ]
  },
  {
   "cell_type": "markdown",
   "id": "e5875339-8c61-41cb-b919-8c0c7de13074",
   "metadata": {},
   "source": [
    "# Exploring the link between Sales & Profit"
   ]
  },
  {
   "cell_type": "code",
   "execution_count": null,
   "id": "96cceb9e-bbdd-4e16-ba6a-f5bd022ae61c",
   "metadata": {},
   "outputs": [],
   "source": [
    "fig = px.scatter(\n",
    "    df,\n",
    "    x='Sales',\n",
    "    y='Profit',\n",
    "    title='📈 Scatter Plot — Sales vs Profit',\n",
    "    color_discrete_sequence=['darkcyan'],\n",
    "    opacity=0.6\n",
    ")\n",
    "\n",
    "fig.update_traces(marker=dict(size=7))\n",
    "fig.update_layout(width=700, height=500 ,\n",
    "template='plotly_white')\n",
    "fig.show()"
   ]
  },
  {
   "cell_type": "raw",
   "id": "87120ff9-4273-4519-a146-9cbd0271f688",
   "metadata": {},
   "source": [
    "Inference :\n",
    "More Sales = More Profit (Sometimes)\n",
    "Higher sales mostly give more profit, but not always.\n",
    "Some High Sales = Loss\n",
    "Few points with big sales also show negative profit (loss).\n",
    "Low Sales = Mixed Result\n",
    "Small sales sometimes give profit and sometimes give loss."
   ]
  },
  {
   "cell_type": "markdown",
   "id": "7e3999d2-e9fb-4116-928d-c2d3d56c9cc0",
   "metadata": {},
   "source": [
    "# Visualizing State-wise Sales on Map"
   ]
  },
  {
   "cell_type": "code",
   "execution_count": null,
   "id": "84c2012f-a1cd-4080-939b-be0cb0b06f55",
   "metadata": {},
   "outputs": [],
   "source": [
    "import us\n",
    "\n",
    "df['State Code'] = df['State'].apply(lambda x: us.states.lookup(x).abbr if us.states.lookup(x) else x)\n"
   ]
  },
  {
   "cell_type": "code",
   "execution_count": null,
   "id": "ba1e7720-5968-465a-b832-b72d4ce341b3",
   "metadata": {},
   "outputs": [],
   "source": [
    "fig = px.choropleth(df, \n",
    "                    locations='State Code',\n",
    "                    locationmode='USA-states',\n",
    "                    color='Sales',\n",
    "                    scope=\"usa\",\n",
    "                    hover_name='State',\n",
    "                     hover_data=['Sales', 'Profit'],\n",
    "                    title='🗺️ State-wise Sales and Profit Distribution (Superstore)',)\n",
    "\n",
    "fig.update_layout(\n",
    "    width=800,\n",
    "    height=500)\n"
   ]
  },
  {
   "cell_type": "raw",
   "id": "262fa84d-79ab-4ecf-a9a9-5c73d2f16e1a",
   "metadata": {},
   "source": [
    "Inference :\n",
    "California, New York, and Texas have high sales and good profit — they are top-performing states.\n",
    "Some states like Illinois have high sales but low profit — may need cost review.\n",
    "States with low sales and losses (like North Carolina) need strategy improvement.\n",
    "Profit doesn’t always depend on high sales — some states are more efficient."
   ]
  },
  {
   "cell_type": "code",
   "execution_count": null,
   "id": "3f01d5f0-3868-430a-85f3-8d4d0776d3e1",
   "metadata": {},
   "outputs": [],
   "source": []
  },
  {
   "cell_type": "code",
   "execution_count": null,
   "id": "265e2914-1ae0-477f-9114-9a9da73e5ecd",
   "metadata": {},
   "outputs": [],
   "source": [
    "fig = px.scatter(\n",
    "    df,\n",
    "    x=\"Sales\",\n",
    "    y=\"Profit\",\n",
    "    size=\"Discount\",\n",
    "    color=\"Category\",\n",
    "    hover_name=\"Sub-Category\",\n",
    "    title=\"💬 Sales vs Profit Bubble Chart (Size by Discount)\",\n",
    "    size_max=40  \n",
    ")\n",
    "fig.update_layout(width=800, height=500)\n",
    "fig.show()"
   ]
  },
  {
   "cell_type": "raw",
   "id": "2a1b4f93-3577-4574-abf4-24ccd3741a3c",
   "metadata": {},
   "source": [
    "Inference :\n",
    "Larger bubbles (representing higher discounts) are mostly found in the negative profit area, indicating that heavy discounts are hurting profitability.\n",
    "Technology category has several high-sales data points, but not all are profitable — profit varies widely.\n",
    "Furniture category shows a concentration of orders with low profit or losses, even at moderate sales levels.\n",
    "Office Supplies appears more stable, with moderate sales and profits, and fewer extreme values.\n",
    "There is no strong positive correlation between sales and profit — some high sales still lead to losses, especially when discounts are high."
   ]
  },
  {
   "cell_type": "markdown",
   "id": "96642a5e-445d-4fea-a117-ce19cae2e323",
   "metadata": {},
   "source": [
    "# Heatmap showing how sales are distributed across categories and regions."
   ]
  },
  {
   "cell_type": "code",
   "execution_count": null,
   "id": "491da699-1aea-4c15-b1ff-57536f9ad18d",
   "metadata": {},
   "outputs": [],
   "source": [
    "# Group and Unstack the Data\n",
    "heatmap_data = df.groupby(['Region', 'Category'])['Sales'].sum().unstack()\n",
    "heatmap_data"
   ]
  },
  {
   "cell_type": "code",
   "execution_count": null,
   "id": "d4c4e356-0a94-4a8d-a087-2cbe368034c4",
   "metadata": {},
   "outputs": [],
   "source": [
    "fig = px.imshow(\n",
    "    heatmap_data,\n",
    "    text_auto=True,\n",
    "    color_continuous_scale='YlGnBu',\n",
    "    title='Total Sales by Region and Category',\n",
    "    labels=dict(color=\"Sales\"),\n",
    "    aspect=\"auto\"\n",
    ")\n",
    "\n",
    "fig.update_layout(\n",
    "    font=dict(size=14),\n",
    "    width=700,\n",
    "    height=500\n",
    ")\n",
    "\n",
    "fig.show()"
   ]
  },
  {
   "cell_type": "raw",
   "id": "85157d23-2221-44e8-9531-8ecbdf76fa8b",
   "metadata": {},
   "source": [
    "Inference :\n",
    "East Region has the highest overall sales, especially in Technology.\n",
    "West Region also performs strongly across all categories.\n",
    "South Region shows the lowest sales in all categories.\n",
    "Technology is the top-selling category in all regions.\n",
    "Furniture performs the worst in the South region."
   ]
  },
  {
   "cell_type": "markdown",
   "id": "597363d6-8a17-4d44-95bc-cb9c18727f3f",
   "metadata": {},
   "source": [
    "# This heatmap shows the correlation between key numerical variables in the Superstore dataset: Sales, Profit, Quantity, and Discount. "
   ]
  },
  {
   "cell_type": "code",
   "execution_count": null,
   "id": "7592e70f-86eb-4a6d-b5f9-78039a38669f",
   "metadata": {},
   "outputs": [],
   "source": [
    "corr_matrix = df[['Sales', 'Profit', 'Quantity', 'Discount']].corr()\n",
    "fig = px.imshow(corr_matrix,\n",
    "text_auto=True,\n",
    "title='Correlation Heatmap - Superstore',\n",
    "aspect=\"auto\",\n",
    "labels=dict(color=\"Correlation\"))\n",
    "fig.update_layout(\n",
    "    width=600,\n",
    "    height=500,\n",
    "    font=dict(size=14)\n",
    ")\n",
    "\n",
    "fig.show()\n"
   ]
  },
  {
   "cell_type": "raw",
   "id": "d0792ba3-0a97-4d76-9a89-916cb183e9c3",
   "metadata": {},
   "source": [
    "Inference :\n",
    "Sales and Profit have a moderate positive correlation (0.48) — more sales often lead to profit, but not always.\n",
    "Discount and Profit show a weak negative correlation (-0.22) — higher discounts may reduce profit.\n",
    "Sales and Quantity have a weak positive correlation (0.20) — selling more items slightly increases sales.\n",
    "Quantity and Profit correlation is very weak (~0.07) — selling more doesn't always mean more profit.\n",
    "Discount has almost no correlation with Sales (-0.03) or Quantity (0.01)."
   ]
  },
  {
   "cell_type": "raw",
   "id": "b6a7ba72-3226-4c32-b479-57a6cdba8c65",
   "metadata": {},
   "source": [
    "Conclussion:\n",
    "Performance Trends (2014–2017):\n",
    "Sales, profit, and orders all grew steadily, especially after 2015.\n",
    "The business is expanding well over time.\n",
    "Customer Segment Focus:\n",
    "Consumers are the main market driver (52% share).\n",
    "Corporate segment is significant too.\n",
    "Home Office is underperforming — needs better targeting.\n",
    "Shipping Mode & Profitability:\n",
    "Standard Class dominates in usage.\n",
    "Same Day delivery is least used — possible scope for marketing push.\n",
    "Product Strategy:\n",
    "Technology (especially Phones) leads in sales.\n",
    "Furniture & Office Supplies show mixed performance.\n",
    "Focus on high-profit sub-categories (Phones, Chairs) and review low performers (e.g., Art, Labels).\n",
    "Sales & Profit Dynamics:\n",
    "More Sales ≠ Always More Profit — some high sales have losses.\n",
    "High Discounts = Low Profit/Loss — avoid heavy discounting.\n",
    "Moderate positive link between sales and profit (corr = 0.48).\n",
    "Regional Insights:\n",
    "East & West regions are top performers.\n",
    "South lags behind — especially in Furniture.\n",
    "Central-Consumer combo is very profitable.\n",
    "State-Level Focus:\n",
    "California, New York, Texas = top states (high sales & profit).\n",
    "States like Illinois need cost control.\n",
    "North Carolina underperforms — improve strategy there.\n",
    "Key Business Nature:\n",
    "Business is volume-driven — most sales < $500.\n",
    "A few high-ticket sales exist but aren’t consistent.\n",
    "Majority of profits come from many small orders.\n",
    "\n",
    "📌 Final Suggestion:\n",
    "Focus on Consumers, especially in East, West, and Central regions.\n",
    "Limit discounts, optimize product mix, and control costs in underperforming states.\n",
    "Leverage top-performing categories and segments for sustainable growth."
   ]
  },
  {
   "cell_type": "code",
   "execution_count": null,
   "id": "aaac156e-419a-4155-8bb0-fc45e7262d01",
   "metadata": {},
   "outputs": [],
   "source": []
  }
 ],
 "metadata": {
  "kernelspec": {
   "display_name": "Python 3 (ipykernel)",
   "language": "python",
   "name": "python3"
  },
  "language_info": {
   "codemirror_mode": {
    "name": "ipython",
    "version": 3
   },
   "file_extension": ".py",
   "mimetype": "text/x-python",
   "name": "python",
   "nbconvert_exporter": "python",
   "pygments_lexer": "ipython3",
   "version": "3.13.1"
  }
 },
 "nbformat": 4,
 "nbformat_minor": 5
}
